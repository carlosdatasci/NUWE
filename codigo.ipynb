{
 "cells": [
  {
   "cell_type": "code",
   "execution_count": 1,
   "id": "db2aa782",
   "metadata": {},
   "outputs": [],
   "source": [
    "## Carga librerías\n",
    "\n",
    "\n",
    "## Tratamiento de datos\n",
    "##----------------------------------------------------------------\n",
    "import pandas as pd\n",
    "import numpy as np\n",
    "\n",
    "import missingno as msno \n",
    "\n",
    "import pandas_profiling as pp\n",
    "\n",
    "## Visualización de datos\n",
    "##----------------------------------------------------------------\n",
    "%matplotlib inline\n",
    "import matplotlib.pyplot as plt\n",
    "\n",
    "import seaborn as sns"
   ]
  },
  {
   "cell_type": "code",
   "execution_count": 2,
   "id": "ef6ce79e",
   "metadata": {},
   "outputs": [
    {
     "data": {
      "text/html": [
       "<div>\n",
       "<style scoped>\n",
       "    .dataframe tbody tr th:only-of-type {\n",
       "        vertical-align: middle;\n",
       "    }\n",
       "\n",
       "    .dataframe tbody tr th {\n",
       "        vertical-align: top;\n",
       "    }\n",
       "\n",
       "    .dataframe thead th {\n",
       "        text-align: right;\n",
       "    }\n",
       "</style>\n",
       "<table border=\"1\" class=\"dataframe\">\n",
       "  <thead>\n",
       "    <tr style=\"text-align: right;\">\n",
       "      <th></th>\n",
       "      <th>CLIENT ID</th>\n",
       "      <th>CLIENT_SEGMENT</th>\n",
       "      <th>AVG CONSO</th>\n",
       "      <th>AVG BASKET SIZE</th>\n",
       "      <th>RECEIVED_COMMUNICATION</th>\n",
       "    </tr>\n",
       "  </thead>\n",
       "  <tbody>\n",
       "    <tr>\n",
       "      <th>0</th>\n",
       "      <td>24321771</td>\n",
       "      <td>6</td>\n",
       "      <td>67,25</td>\n",
       "      <td>201,75</td>\n",
       "      <td>0</td>\n",
       "    </tr>\n",
       "    <tr>\n",
       "      <th>1</th>\n",
       "      <td>24321859</td>\n",
       "      <td>2</td>\n",
       "      <td>58,33</td>\n",
       "      <td>350</td>\n",
       "      <td>0</td>\n",
       "    </tr>\n",
       "    <tr>\n",
       "      <th>2</th>\n",
       "      <td>24321880</td>\n",
       "      <td>3</td>\n",
       "      <td>46,67</td>\n",
       "      <td>112</td>\n",
       "      <td>0</td>\n",
       "    </tr>\n",
       "    <tr>\n",
       "      <th>3</th>\n",
       "      <td>24321957</td>\n",
       "      <td>2</td>\n",
       "      <td>50</td>\n",
       "      <td>600</td>\n",
       "      <td>0</td>\n",
       "    </tr>\n",
       "    <tr>\n",
       "      <th>4</th>\n",
       "      <td>24321962</td>\n",
       "      <td>4</td>\n",
       "      <td>10</td>\n",
       "      <td>120</td>\n",
       "      <td>0</td>\n",
       "    </tr>\n",
       "  </tbody>\n",
       "</table>\n",
       "</div>"
      ],
      "text/plain": [
       "   CLIENT ID  CLIENT_SEGMENT AVG CONSO AVG BASKET SIZE  RECEIVED_COMMUNICATION\n",
       "0   24321771               6     67,25          201,75                       0\n",
       "1   24321859               2     58,33             350                       0\n",
       "2   24321880               3     46,67             112                       0\n",
       "3   24321957               2        50             600                       0\n",
       "4   24321962               4        10             120                       0"
      ]
     },
     "execution_count": 2,
     "metadata": {},
     "output_type": "execute_result"
    }
   ],
   "source": [
    "# Carga del dataset\n",
    "\n",
    "df = pd.read_csv('mwc22-client_table.csv', sep = ',')\n",
    "\n",
    "# Check first line\n",
    "df.head()\n",
    "\n",
    "# Check last line\n",
    "#df.tail()"
   ]
  },
  {
   "cell_type": "code",
   "execution_count": 3,
   "id": "df0ad00a",
   "metadata": {},
   "outputs": [
    {
     "name": "stdout",
     "output_type": "stream",
     "text": [
      "<class 'pandas.core.frame.DataFrame'>\n",
      "RangeIndex: 35884 entries, 0 to 35883\n",
      "Data columns (total 5 columns):\n",
      " #   Column                  Non-Null Count  Dtype \n",
      "---  ------                  --------------  ----- \n",
      " 0   CLIENT ID               35884 non-null  int64 \n",
      " 1   CLIENT_SEGMENT          35884 non-null  int64 \n",
      " 2   AVG CONSO               35884 non-null  object\n",
      " 3   AVG BASKET SIZE         35884 non-null  object\n",
      " 4   RECEIVED_COMMUNICATION  35884 non-null  int64 \n",
      "dtypes: int64(3), object(2)\n",
      "memory usage: 1.4+ MB\n"
     ]
    }
   ],
   "source": [
    "# En la información general se pueden ver la cantidad de líneas que tiene el documento y el formato de dato de cada\n",
    "# una de las columnas, donde se encuentran dos tipos. También se puede observar que no hay datos nulos. \n",
    "df.info()"
   ]
  },
  {
   "cell_type": "code",
   "execution_count": 4,
   "id": "64f0d0c0",
   "metadata": {},
   "outputs": [],
   "source": [
    "# Como se ha visto en la información, los números decimales se consideran objetos, se deben convertir a valor \"float\"\n",
    "# para poder trabajar con ellos. \n",
    "\n",
    "# Para poder convertir los valores a \"float\" previamente hay que substituir las \",\" por \".\".\n",
    "df[\"AVG CONSO\"] = (df[\"AVG CONSO\"]\n",
    "                         .str.extract(r\"([\\d,\\.]+)\", expand=False)\n",
    "                         .str.replace(\",\", \".\")\n",
    "                         .astype(float))\n",
    "\n",
    "df[\"AVG BASKET SIZE\"] = (df[\"AVG BASKET SIZE\"]\n",
    "                         .str.extract(r\"([\\d,\\.]+)\", expand=False)\n",
    "                         .str.replace(\",\", \".\")\n",
    "                         .astype(float))\n",
    "\n",
    "# A continuación se transforman los datos de las columnas al formato \"float\".\n",
    "\n",
    "df[\"AVG CONSO\"] = (df[\"AVG CONSO\"].astype(float))\n",
    "df[\"AVG BASKET SIZE\"] = (df[\"AVG BASKET SIZE\"].astype(float))"
   ]
  },
  {
   "cell_type": "code",
   "execution_count": 6,
   "id": "45268bad",
   "metadata": {},
   "outputs": [],
   "source": [
    "# Se agrufa el consumo medio por segmento y se guardan los datos en dos listas.\n",
    "grouped = df.groupby(\"CLIENT_SEGMENT\")\n",
    "lista_grupo = []\n",
    "lista_avg_conso = []\n",
    "for name, group in grouped:\n",
    "    lista_grupo.append(name)\n",
    "    lista_avg_conso.append(np.mean(group[\"AVG CONSO\"]))"
   ]
  },
  {
   "cell_type": "code",
   "execution_count": 7,
   "id": "fd1b56ba",
   "metadata": {},
   "outputs": [
    {
     "data": {
      "image/png": "[encoded data removed]",
      "text/plain": [
       "<Figure size 648x216 with 1 Axes>"
      ]
     },
     "metadata": {
      "needs_background": "light"
     },
     "output_type": "display_data"
    }
   ],
   "source": [
    "# Se representa con un gráfico de barras el consumo medio por segmento.\n",
    "plt.figure(figsize=(9, 3))\n",
    "plt.bar(lista_grupo, lista_avg_conso)\n",
    "plt.suptitle('Consumo medio por segmento')\n",
    "plt.show()"
   ]
  },
  {
   "cell_type": "code",
   "execution_count": 8,
   "id": "e937d7ff",
   "metadata": {},
   "outputs": [],
   "source": [
    "# Se agrupa el tamaño medio de la cesta por segmento y se guardan los datos en dos listas.\n",
    "grouped2 = df.groupby(\"CLIENT_SEGMENT\")\n",
    "lista_grupo_2 = []\n",
    "lista_avg_basket = []\n",
    "for name, group in grouped2:\n",
    "    lista_grupo_2.append(name)\n",
    "    lista_avg_basket.append(np.mean(group[\"AVG BASKET SIZE\"]))"
   ]
  },
  {
   "cell_type": "code",
   "execution_count": 9,
   "id": "3a2aac06",
   "metadata": {},
   "outputs": [
    {
     "data": {
      "image/png": "[encoded data removed]",
      "text/plain": [
       "<Figure size 648x216 with 1 Axes>"
      ]
     },
     "metadata": {
      "needs_background": "light"
     },
     "output_type": "display_data"
    }
   ],
   "source": [
    "# Se representa con un gráfico de barras el tamaño medio de la cesta por segmento.\n",
    "plt.figure(figsize=(9, 3))\n",
    "plt.bar(lista_grupo_2, lista_avg_basket)\n",
    "plt.suptitle('Tamaño medio de la cesta por segmento')\n",
    "plt.show()"
   ]
  },
  {
   "cell_type": "code",
   "execution_count": 10,
   "id": "1107f117",
   "metadata": {},
   "outputs": [],
   "source": [
    "# En general se puede observar que a mayor tamaño medio de la cesta, mayor consumo de producto. "
   ]
  },
  {
   "cell_type": "code",
   "execution_count": 11,
   "id": "33104c42",
   "metadata": {},
   "outputs": [],
   "source": [
    "# Se agrufa el consumo medio por segmento y se guardan los datos en dos listas.\n",
    "grouped3 = df.groupby(\"RECEIVED_COMMUNICATION\")\n",
    "lista_grupo_3 = []\n",
    "lista_avg_conso_promo = []\n",
    "for name, group in grouped3:\n",
    "    lista_grupo_3.append(name)\n",
    "    lista_avg_conso_promo.append(np.mean(group[\"AVG CONSO\"]))"
   ]
  },
  {
   "cell_type": "code",
   "execution_count": 12,
   "id": "512b4928",
   "metadata": {},
   "outputs": [
    {
     "data": {
      "image/png": "[encoded data removed]",
      "text/plain": [
       "<Figure size 648x216 with 1 Axes>"
      ]
     },
     "metadata": {
      "needs_background": "light"
     },
     "output_type": "display_data"
    }
   ],
   "source": [
    "# Se representa con un gráfico de barras el consumo medio mensual en función de si el cliente recibio promoción de sus\n",
    "# productos.\n",
    "plt.figure(figsize=(9, 3))\n",
    "plt.bar(lista_grupo_3, lista_avg_conso_promo)\n",
    "plt.suptitle('Consumo medio mensual en base a promoción')\n",
    "plt.show()"
   ]
  },
  {
   "cell_type": "code",
   "execution_count": 13,
   "id": "b6d4d647",
   "metadata": {},
   "outputs": [],
   "source": [
    "# Se puede observar que los clientes con promoción han consumido mayor cantidad de fruta."
   ]
  },
  {
   "cell_type": "code",
   "execution_count": 14,
   "id": "0e8ba69f",
   "metadata": {},
   "outputs": [
    {
     "data": {
      "text/html": [
       "<div>\n",
       "<style scoped>\n",
       "    .dataframe tbody tr th:only-of-type {\n",
       "        vertical-align: middle;\n",
       "    }\n",
       "\n",
       "    .dataframe tbody tr th {\n",
       "        vertical-align: top;\n",
       "    }\n",
       "\n",
       "    .dataframe thead th {\n",
       "        text-align: right;\n",
       "    }\n",
       "</style>\n",
       "<table border=\"1\" class=\"dataframe\">\n",
       "  <thead>\n",
       "    <tr style=\"text-align: right;\">\n",
       "      <th></th>\n",
       "      <th>CLIENT ID</th>\n",
       "      <th>NB PRODS</th>\n",
       "      <th>ORDER ID</th>\n",
       "      <th>FRUIT_PRODUCT</th>\n",
       "    </tr>\n",
       "  </thead>\n",
       "  <tbody>\n",
       "    <tr>\n",
       "      <th>0</th>\n",
       "      <td>18070505</td>\n",
       "      <td>5</td>\n",
       "      <td>671907264</td>\n",
       "      <td>Apple</td>\n",
       "    </tr>\n",
       "    <tr>\n",
       "      <th>1</th>\n",
       "      <td>18070505</td>\n",
       "      <td>10</td>\n",
       "      <td>671907264</td>\n",
       "      <td>Orange</td>\n",
       "    </tr>\n",
       "    <tr>\n",
       "      <th>2</th>\n",
       "      <td>18070505</td>\n",
       "      <td>5</td>\n",
       "      <td>671907264</td>\n",
       "      <td>Kiwi</td>\n",
       "    </tr>\n",
       "    <tr>\n",
       "      <th>3</th>\n",
       "      <td>18070505</td>\n",
       "      <td>10</td>\n",
       "      <td>671907264</td>\n",
       "      <td>Pear</td>\n",
       "    </tr>\n",
       "    <tr>\n",
       "      <th>4</th>\n",
       "      <td>18070505</td>\n",
       "      <td>5</td>\n",
       "      <td>671907264</td>\n",
       "      <td>Cheery</td>\n",
       "    </tr>\n",
       "  </tbody>\n",
       "</table>\n",
       "</div>"
      ],
      "text/plain": [
       "   CLIENT ID  NB PRODS   ORDER ID FRUIT_PRODUCT\n",
       "0   18070505         5  671907264         Apple\n",
       "1   18070505        10  671907264        Orange\n",
       "2   18070505         5  671907264          Kiwi\n",
       "3   18070505        10  671907264          Pear\n",
       "4   18070505         5  671907264        Cheery"
      ]
     },
     "execution_count": 14,
     "metadata": {},
     "output_type": "execute_result"
    }
   ],
   "source": [
    "# Ahora se procederá a analizar los datos del dataset \"mwc22-orders_table\" con el objetivo de conocer cuales son las\n",
    "# frutas más consumidas por cada segmento. \n",
    "\n",
    "# Primero se cargan los datos en un dataframe y se observa que se carguen correctamente.\n",
    "\n",
    "df2 = pd.read_csv('mwc22-orders_table.csv', sep = ',')\n",
    "\n",
    "# Check primeras líneas.\n",
    "df2.head()\n",
    "\n",
    "# Check últimas líneas\n",
    "#df2.tail()"
   ]
  },
  {
   "cell_type": "code",
   "execution_count": 15,
   "id": "09f71208",
   "metadata": {},
   "outputs": [
    {
     "name": "stdout",
     "output_type": "stream",
     "text": [
      "<class 'pandas.core.frame.DataFrame'>\n",
      "RangeIndex: 66912 entries, 0 to 66911\n",
      "Data columns (total 4 columns):\n",
      " #   Column         Non-Null Count  Dtype \n",
      "---  ------         --------------  ----- \n",
      " 0   CLIENT ID      66912 non-null  int64 \n",
      " 1   NB PRODS       66912 non-null  int64 \n",
      " 2   ORDER ID       66912 non-null  int64 \n",
      " 3   FRUIT_PRODUCT  66912 non-null  object\n",
      "dtypes: int64(3), object(1)\n",
      "memory usage: 2.0+ MB\n"
     ]
    }
   ],
   "source": [
    "# En la información general se pueden ver la cantidad de líneas que tiene el documento y el formato de dato de cada\n",
    "# una de las columnas, donde se encuentran dos tipos. También se puede observar que no hay datos nulos. \n",
    "df2.info()"
   ]
  },
  {
   "cell_type": "code",
   "execution_count": 16,
   "id": "578a8cdd",
   "metadata": {},
   "outputs": [
    {
     "data": {
      "text/html": [
       "<div>\n",
       "<style scoped>\n",
       "    .dataframe tbody tr th:only-of-type {\n",
       "        vertical-align: middle;\n",
       "    }\n",
       "\n",
       "    .dataframe tbody tr th {\n",
       "        vertical-align: top;\n",
       "    }\n",
       "\n",
       "    .dataframe thead th {\n",
       "        text-align: right;\n",
       "    }\n",
       "</style>\n",
       "<table border=\"1\" class=\"dataframe\">\n",
       "  <thead>\n",
       "    <tr style=\"text-align: right;\">\n",
       "      <th></th>\n",
       "      <th>CLIENT ID</th>\n",
       "      <th>CLIENT_SEGMENT</th>\n",
       "      <th>AVG CONSO</th>\n",
       "      <th>AVG BASKET SIZE</th>\n",
       "      <th>RECEIVED_COMMUNICATION</th>\n",
       "      <th>NB PRODS</th>\n",
       "      <th>ORDER ID</th>\n",
       "      <th>FRUIT_PRODUCT</th>\n",
       "    </tr>\n",
       "  </thead>\n",
       "  <tbody>\n",
       "    <tr>\n",
       "      <th>0</th>\n",
       "      <td>24321771</td>\n",
       "      <td>6</td>\n",
       "      <td>67.25</td>\n",
       "      <td>201.75</td>\n",
       "      <td>0</td>\n",
       "      <td>2</td>\n",
       "      <td>676480593</td>\n",
       "      <td>Lemon</td>\n",
       "    </tr>\n",
       "    <tr>\n",
       "      <th>1</th>\n",
       "      <td>24321880</td>\n",
       "      <td>3</td>\n",
       "      <td>46.67</td>\n",
       "      <td>112.00</td>\n",
       "      <td>0</td>\n",
       "      <td>10</td>\n",
       "      <td>668762140</td>\n",
       "      <td>Orange</td>\n",
       "    </tr>\n",
       "    <tr>\n",
       "      <th>2</th>\n",
       "      <td>24321957</td>\n",
       "      <td>2</td>\n",
       "      <td>50.00</td>\n",
       "      <td>600.00</td>\n",
       "      <td>0</td>\n",
       "      <td>20</td>\n",
       "      <td>667332821</td>\n",
       "      <td>Apricot</td>\n",
       "    </tr>\n",
       "    <tr>\n",
       "      <th>3</th>\n",
       "      <td>24321957</td>\n",
       "      <td>2</td>\n",
       "      <td>50.00</td>\n",
       "      <td>600.00</td>\n",
       "      <td>0</td>\n",
       "      <td>20</td>\n",
       "      <td>667332821</td>\n",
       "      <td>Orange</td>\n",
       "    </tr>\n",
       "    <tr>\n",
       "      <th>4</th>\n",
       "      <td>24322170</td>\n",
       "      <td>1</td>\n",
       "      <td>116.67</td>\n",
       "      <td>200.00</td>\n",
       "      <td>0</td>\n",
       "      <td>5</td>\n",
       "      <td>668261888</td>\n",
       "      <td>Lemon</td>\n",
       "    </tr>\n",
       "  </tbody>\n",
       "</table>\n",
       "</div>"
      ],
      "text/plain": [
       "   CLIENT ID  CLIENT_SEGMENT  AVG CONSO  AVG BASKET SIZE  \\\n",
       "0   24321771               6      67.25           201.75   \n",
       "1   24321880               3      46.67           112.00   \n",
       "2   24321957               2      50.00           600.00   \n",
       "3   24321957               2      50.00           600.00   \n",
       "4   24322170               1     116.67           200.00   \n",
       "\n",
       "   RECEIVED_COMMUNICATION  NB PRODS   ORDER ID FRUIT_PRODUCT  \n",
       "0                       0         2  676480593         Lemon  \n",
       "1                       0        10  668762140        Orange  \n",
       "2                       0        20  667332821       Apricot  \n",
       "3                       0        20  667332821        Orange  \n",
       "4                       0         5  668261888         Lemon  "
      ]
     },
     "execution_count": 16,
     "metadata": {},
     "output_type": "execute_result"
    }
   ],
   "source": [
    "# Se realiza la unión del dataframe cliente con el dataframde de las órdenes, con la intención de ver que frutas se consumen más\n",
    "# en cada segmento.\n",
    "df3 = pd.merge(df, df2, how='inner')\n",
    "df3.head()"
   ]
  },
  {
   "cell_type": "code",
   "execution_count": 17,
   "id": "11ae07cc",
   "metadata": {},
   "outputs": [],
   "source": [
    "# Primeo se filtran los datos por segmento y posteriormente por tipo de fruta, para así sumar la cantidad de unidades de cada\n",
    "# fruta. Primero se extraeran los datos y posteriormente se presentarán los gráficos conjuntamente para facilitar su lectura.\n",
    "\n",
    "#En este punto se extraen los datos del segmento 1\n",
    "\n",
    "grouped1 = df3[(df3.CLIENT_SEGMENT == 1)]\n",
    "grouped1_f = grouped1.groupby([\"FRUIT_PRODUCT\"])                       \n",
    "lista_frutas_1 = []\n",
    "lista_cantidad_1 = []\n",
    "for name, group in grouped1_f:\n",
    "    lista_frutas_1.append(name)\n",
    "    lista_cantidad_1.append(np.sum(group[\"NB PRODS\"]))\n",
    "    \n",
    "#En este punto se extraen los datos del segmento 2\n",
    "\n",
    "grouped2 = df3[(df3.CLIENT_SEGMENT == 2)]\n",
    "grouped2_f = grouped2.groupby([\"FRUIT_PRODUCT\"])                       \n",
    "lista_frutas_2 = []\n",
    "lista_cantidad_2 = []\n",
    "for name, group in grouped2_f:\n",
    "    lista_frutas_2.append(name)\n",
    "    lista_cantidad_2.append(np.sum(group[\"NB PRODS\"]))\n",
    "\n",
    "#En este punto se extraen los datos del segmento 3\n",
    "\n",
    "grouped3 = df3[(df3.CLIENT_SEGMENT == 3)]\n",
    "grouped3_f = grouped3.groupby([\"FRUIT_PRODUCT\"])                       \n",
    "lista_frutas_3 = []\n",
    "lista_cantidad_3 = []\n",
    "for name, group in grouped3_f:\n",
    "    lista_frutas_3.append(name)\n",
    "    lista_cantidad_3.append(np.sum(group[\"NB PRODS\"]))\n",
    "    \n",
    "#En este punto se extraen los datos del segmento 4\n",
    "\n",
    "grouped4 = df3[(df3.CLIENT_SEGMENT == 4)]\n",
    "grouped4_f = grouped4.groupby([\"FRUIT_PRODUCT\"])                       \n",
    "lista_frutas_4 = []\n",
    "lista_cantidad_4 = []\n",
    "for name, group in grouped4_f:\n",
    "    lista_frutas_4.append(name)\n",
    "    lista_cantidad_4.append(np.sum(group[\"NB PRODS\"]))\n",
    "\n",
    "#En este punto se extraen los datos del segmento 5\n",
    "\n",
    "grouped5 = df3[(df3.CLIENT_SEGMENT == 5)]\n",
    "grouped5_f = grouped5.groupby([\"FRUIT_PRODUCT\"])                       \n",
    "lista_frutas_5 = []\n",
    "lista_cantidad_5 = []\n",
    "for name, group in grouped5_f:\n",
    "    lista_frutas_5.append(name)\n",
    "    lista_cantidad_5.append(np.sum(group[\"NB PRODS\"]))\n",
    "\n",
    "#En este punto se extraen los datos del segmento 6\n",
    "\n",
    "grouped6 = df3[(df3.CLIENT_SEGMENT == 6)]\n",
    "grouped6_f = grouped6.groupby([\"FRUIT_PRODUCT\"])                       \n",
    "lista_frutas_6 = []\n",
    "lista_cantidad_6 = []\n",
    "for name, group in grouped6_f:\n",
    "    lista_frutas_6.append(name)\n",
    "    lista_cantidad_6.append(np.sum(group[\"NB PRODS\"]))"
   ]
  },
  {
   "cell_type": "code",
   "execution_count": 18,
   "id": "c7f5910d",
   "metadata": {},
   "outputs": [
    {
     "data": {
      "image/png": "[encoded data removed]",
      "text/plain": [
       "<Figure size 648x216 with 1 Axes>"
      ]
     },
     "metadata": {
      "needs_background": "light"
     },
     "output_type": "display_data"
    },
    {
     "data": {
      "image/png": "[encoded data removed]",
      "text/plain": [
       "<Figure size 648x216 with 1 Axes>"
      ]
     },
     "metadata": {
      "needs_background": "light"
     },
     "output_type": "display_data"
    },
    {
     "data": {
      "image/png": "[encoded data removed]",
      "text/plain": [
       "<Figure size 648x216 with 1 Axes>"
      ]
     },
     "metadata": {
      "needs_background": "light"
     },
     "output_type": "display_data"
    },
    {
     "data": {
      "image/png": "[encoded data removed]",
      "text/plain": [
       "<Figure size 648x216 with 1 Axes>"
      ]
     },
     "metadata": {
      "needs_background": "light"
     },
     "output_type": "display_data"
    },
    {
     "data": {
      "image/png": "[encoded data removed]",
      "text/plain": [
       "<Figure size 648x216 with 1 Axes>"
      ]
     },
     "metadata": {
      "needs_background": "light"
     },
     "output_type": "display_data"
    },
    {
     "data": {
      "image/png": "[encoded data removed]",
      "text/plain": [
       "<Figure size 648x216 with 1 Axes>"
      ]
     },
     "metadata": {
      "needs_background": "light"
     },
     "output_type": "display_data"
    }
   ],
   "source": [
    "# Se muestra el gráfico de barras de la fruta consumida en el segmento 1.\n",
    "fig = plt.figure(figsize=(9, 3))\n",
    "plt.bar(lista_frutas_1, lista_cantidad_1)\n",
    "plt.suptitle('Fruta consumida en el Segmento 1')\n",
    "fig.autofmt_xdate()\n",
    "plt.show()\n",
    "\n",
    "# Se muestra el gráfico de barras de la fruta consumida en el segmento 2.\n",
    "fig = plt.figure(figsize=(9, 3))\n",
    "plt.bar(lista_frutas_2, lista_cantidad_2)\n",
    "plt.suptitle('Fruta consumida en el Segmento 2')\n",
    "fig.autofmt_xdate()\n",
    "plt.show()\n",
    "\n",
    "# Se muestra el gráfico de barras de la fruta consumida en el segmento 3.\n",
    "fig = plt.figure(figsize=(9, 3))\n",
    "plt.bar(lista_frutas_3, lista_cantidad_3)\n",
    "plt.suptitle('Fruta consumida en el Segmento 3')\n",
    "fig.autofmt_xdate()\n",
    "plt.show()\n",
    "\n",
    "# Se muestra el gráfico de barras de la fruta consumida en el segmento 4.\n",
    "fig = plt.figure(figsize=(9, 3))\n",
    "plt.bar(lista_frutas_4, lista_cantidad_4)\n",
    "plt.suptitle('Fruta consumida en el Segmento 4')\n",
    "fig.autofmt_xdate()\n",
    "plt.show()\n",
    "\n",
    "# Se muestra el gráfico de barras de la fruta consumida en el segmento 5.\n",
    "fig = plt.figure(figsize=(9, 3))\n",
    "plt.bar(lista_frutas_5, lista_cantidad_5)\n",
    "plt.suptitle('Fruta consumida en el Segmento 5')\n",
    "fig.autofmt_xdate()\n",
    "plt.show()\n",
    "\n",
    "# Se muestra el gráfico de barras de la fruta consumida en el segmento 6.\n",
    "fig = plt.figure(figsize=(9, 3))\n",
    "plt.bar(lista_frutas_6, lista_cantidad_6)\n",
    "plt.suptitle('Fruta consumida en el Segmento 6')\n",
    "fig.autofmt_xdate()\n",
    "plt.show()"
   ]
  },
  {
   "cell_type": "code",
   "execution_count": null,
   "id": "5dc45b96",
   "metadata": {},
   "outputs": [],
   "source": [
    "# Se puede observar que el kiwi y el limón generalmente son los productos más consumidos en todos los segmentos.\n",
    "# También se puede ver una relación entre el consumo medio del primer gráfico realizado en este ejercicio con las cantidades\n",
    "# de producto consumidas."
   ]
  },
  {
   "cell_type": "code",
   "execution_count": null,
   "id": "768cc75d",
   "metadata": {},
   "outputs": [],
   "source": [
    "# A continuación se procede con los casos de predicción. Se proponen dos tipos de módelos y se analizará cual da\n",
    "# mejor resultado, se tiene en cuenta una separación de los datos con \"train_test_split\" para conseguir una predicción lo\n",
    "# más certera posible."
   ]
  },
  {
   "cell_type": "code",
   "execution_count": 19,
   "id": "ce6f5775",
   "metadata": {},
   "outputs": [],
   "source": [
    "# Primer caso, Multinomial Naive Bayes.\n",
    "\n",
    "column_names = ['AVG CONSO','AVG BASKET SIZE','RECEIVED_COMMUNICATION']\n",
    "\n",
    "X = df[column_names]\n",
    "y = df['CLIENT_SEGMENT']\n",
    "\n",
    "from sklearn.model_selection import train_test_split\n",
    "Xtrain, Xtest, ytrain, ytest = train_test_split(X, y, random_state=0, train_size=0.7)\n",
    "\n",
    "from sklearn.feature_extraction.text import TfidfVectorizer\n",
    "from sklearn.naive_bayes import MultinomialNB\n",
    "from sklearn.pipeline import make_pipeline\n",
    "model = make_pipeline(MultinomialNB())\n",
    "\n",
    "model.fit(Xtrain, ytrain)\n",
    "prediction = model.predict(Xtest)\n"
   ]
  },
  {
   "cell_type": "code",
   "execution_count": 20,
   "id": "96dbd0d9",
   "metadata": {},
   "outputs": [
    {
     "data": {
      "image/png": "[encoded data removed]",
      "text/plain": [
       "<Figure size 432x288 with 1 Axes>"
      ]
     },
     "metadata": {
      "needs_background": "light"
     },
     "output_type": "display_data"
    }
   ],
   "source": [
    "# Se analiza el resultado con una matriz.\n",
    "from sklearn.metrics import confusion_matrix\n",
    "mat = confusion_matrix(ytest, prediction)\n",
    "sns.heatmap(mat.T, square=True, annot=True, fmt='d', cbar=False)\n",
    "plt.xlabel('true label')\n",
    "plt.ylabel('predicted label');\n",
    "\n",
    "\n"
   ]
  },
  {
   "cell_type": "code",
   "execution_count": 21,
   "id": "e22ff1f8",
   "metadata": {},
   "outputs": [],
   "source": [
    "# Segundo caso Random Forest Classifier.\n",
    "\n",
    "column_names = ['AVG CONSO','AVG BASKET SIZE','RECEIVED_COMMUNICATION']\n",
    "\n",
    "X = df[column_names]\n",
    "y = df['CLIENT_SEGMENT']\n",
    "\n",
    "from sklearn.model_selection import train_test_split\n",
    "Xtrain, Xtest, ytrain, ytest = train_test_split(X, y, random_state=0, train_size=0.7)\n",
    "\n",
    "from sklearn.ensemble import RandomForestClassifier\n",
    "forest = RandomForestClassifier(n_estimators=1000)\n",
    "forest.fit(Xtrain, ytrain)\n",
    "prediction = forest.predict(Xtest)"
   ]
  },
  {
   "cell_type": "code",
   "execution_count": 22,
   "id": "6531f361",
   "metadata": {},
   "outputs": [
    {
     "name": "stdout",
     "output_type": "stream",
     "text": [
      "              precision    recall  f1-score   support\n",
      "\n",
      "           1       0.91      0.87      0.89      2060\n",
      "           2       0.92      0.79      0.85      2366\n",
      "           3       0.79      0.75      0.77      2589\n",
      "           4       0.74      0.75      0.75      2317\n",
      "           5       0.84      0.72      0.77      1220\n",
      "           6       0.06      0.28      0.10       214\n",
      "\n",
      "    accuracy                           0.77     10766\n",
      "   macro avg       0.71      0.69      0.69     10766\n",
      "weighted avg       0.82      0.77      0.79     10766\n",
      "\n"
     ]
    },
    {
     "data": {
      "image/png": "[encoded data removed]",
      "text/plain": [
       "<Figure size 432x288 with 1 Axes>"
      ]
     },
     "metadata": {
      "needs_background": "light"
     },
     "output_type": "display_data"
    }
   ],
   "source": [
    "# Se analiza el restulado con un reporte y una matriz.\n",
    "from sklearn import metrics\n",
    "print(metrics.classification_report(prediction, ytest))\n",
    "\n",
    "from sklearn.metrics import confusion_matrix\n",
    "mat = confusion_matrix(ytest, prediction)\n",
    "sns.heatmap(mat.T, square=True, annot=True, fmt='d', cbar=False)\n",
    "plt.xlabel('true label')\n",
    "plt.ylabel('predicted label');"
   ]
  },
  {
   "cell_type": "code",
   "execution_count": null,
   "id": "2e3bfc5e",
   "metadata": {},
   "outputs": [],
   "source": [
    "# Conclusión sobre los casos de predicción. Se puede observar como Random Forest Classifier ofrece una predicción\n",
    "# con mejores resultados, sin emargo no es capaz de detectar adecuadamente el segmento número 6."
   ]
  },
  {
   "cell_type": "code",
   "execution_count": 23,
   "id": "1b208bd7",
   "metadata": {
    "scrolled": true
   },
   "outputs": [
    {
     "data": {
      "text/html": [
       "<div>\n",
       "<style scoped>\n",
       "    .dataframe tbody tr th:only-of-type {\n",
       "        vertical-align: middle;\n",
       "    }\n",
       "\n",
       "    .dataframe tbody tr th {\n",
       "        vertical-align: top;\n",
       "    }\n",
       "\n",
       "    .dataframe thead th {\n",
       "        text-align: right;\n",
       "    }\n",
       "</style>\n",
       "<table border=\"1\" class=\"dataframe\">\n",
       "  <thead>\n",
       "    <tr style=\"text-align: right;\">\n",
       "      <th></th>\n",
       "      <th>CLIENT ID</th>\n",
       "      <th>AVG CONSO</th>\n",
       "      <th>AVG BASKET SIZE</th>\n",
       "      <th>RECEIVED_COMMUNICATION</th>\n",
       "    </tr>\n",
       "  </thead>\n",
       "  <tbody>\n",
       "    <tr>\n",
       "      <th>0</th>\n",
       "      <td>48352078</td>\n",
       "      <td>8,33</td>\n",
       "      <td>100</td>\n",
       "      <td>0</td>\n",
       "    </tr>\n",
       "    <tr>\n",
       "      <th>1</th>\n",
       "      <td>18072186</td>\n",
       "      <td>93,42</td>\n",
       "      <td>186,83</td>\n",
       "      <td>1</td>\n",
       "    </tr>\n",
       "    <tr>\n",
       "      <th>2</th>\n",
       "      <td>48352246</td>\n",
       "      <td>45,83</td>\n",
       "      <td>137,5</td>\n",
       "      <td>0</td>\n",
       "    </tr>\n",
       "    <tr>\n",
       "      <th>3</th>\n",
       "      <td>18070621</td>\n",
       "      <td>16,67</td>\n",
       "      <td>200</td>\n",
       "      <td>1</td>\n",
       "    </tr>\n",
       "    <tr>\n",
       "      <th>4</th>\n",
       "      <td>48352262</td>\n",
       "      <td>13,33</td>\n",
       "      <td>160</td>\n",
       "      <td>0</td>\n",
       "    </tr>\n",
       "  </tbody>\n",
       "</table>\n",
       "</div>"
      ],
      "text/plain": [
       "   CLIENT ID AVG CONSO AVG BASKET SIZE  RECEIVED_COMMUNICATION\n",
       "0   48352078      8,33             100                       0\n",
       "1   18072186     93,42          186,83                       1\n",
       "2   48352246     45,83           137,5                       0\n",
       "3   18070621     16,67             200                       1\n",
       "4   48352262     13,33             160                       0"
      ]
     },
     "execution_count": 23,
     "metadata": {},
     "output_type": "execute_result"
    }
   ],
   "source": [
    "# Ahose se cargará el excel con los datos a predecir.\n",
    "\n",
    "df4 = pd.read_csv('mwc22-client_table+-+test_x.csv', sep = ',')\n",
    "\n",
    "# Check primeras líneas.\n",
    "df4.head()\n",
    "\n",
    "# Check últimas líneas\n",
    "#df2.tail()"
   ]
  },
  {
   "cell_type": "code",
   "execution_count": 24,
   "id": "69540af2",
   "metadata": {},
   "outputs": [
    {
     "name": "stdout",
     "output_type": "stream",
     "text": [
      "<class 'pandas.core.frame.DataFrame'>\n",
      "RangeIndex: 19 entries, 0 to 18\n",
      "Data columns (total 4 columns):\n",
      " #   Column                  Non-Null Count  Dtype \n",
      "---  ------                  --------------  ----- \n",
      " 0   CLIENT ID               19 non-null     int64 \n",
      " 1   AVG CONSO               19 non-null     object\n",
      " 2   AVG BASKET SIZE         19 non-null     object\n",
      " 3   RECEIVED_COMMUNICATION  19 non-null     int64 \n",
      "dtypes: int64(2), object(2)\n",
      "memory usage: 736.0+ bytes\n"
     ]
    }
   ],
   "source": [
    "df4.info()"
   ]
  },
  {
   "cell_type": "code",
   "execution_count": 25,
   "id": "d19dcac6",
   "metadata": {},
   "outputs": [],
   "source": [
    "# Como se ha visto en la información, los números decimales se consideran objetos, se deben convertir a valor \"float\"\n",
    "# para poder trabajar con ellos. \n",
    "\n",
    "# Para poder convertir los valores a \"float\" previamente hay que substituir las \",\" por \".\".\n",
    "df4[\"AVG CONSO\"] = (df4[\"AVG CONSO\"]\n",
    "                         .str.extract(r\"([\\d,\\.]+)\", expand=False)\n",
    "                         .str.replace(\",\", \".\")\n",
    "                         .astype(float))\n",
    "\n",
    "df4[\"AVG BASKET SIZE\"] = (df4[\"AVG BASKET SIZE\"]\n",
    "                         .str.extract(r\"([\\d,\\.]+)\", expand=False)\n",
    "                         .str.replace(\",\", \".\")\n",
    "                         .astype(float))\n",
    "\n",
    "# A continuación se transforman los datos de las columnas al formato \"float\".\n",
    "\n",
    "df4[\"AVG CONSO\"] = (df4[\"AVG CONSO\"].astype(float))\n",
    "df4[\"AVG BASKET SIZE\"] = (df4[\"AVG BASKET SIZE\"].astype(float))"
   ]
  },
  {
   "cell_type": "code",
   "execution_count": 27,
   "id": "08600e5c",
   "metadata": {},
   "outputs": [],
   "source": [
    "# Se ejecuta la predicción y se genera una nueva columna en el dataframe para ubicar los resultados. \n",
    "column_names = ['AVG CONSO','AVG BASKET SIZE','RECEIVED_COMMUNICATION']\n",
    "\n",
    "X = df[column_names]\n",
    "y = df['CLIENT_SEGMENT']\n",
    "\n",
    "X2 = df4[column_names]\n",
    "\n",
    "from sklearn.ensemble import RandomForestClassifier\n",
    "forest = RandomForestClassifier(n_estimators=1000)\n",
    "forest.fit(X, y)\n",
    "df4['CLIENT_SEGMENT'] = forest.predict(X2)"
   ]
  },
  {
   "cell_type": "code",
   "execution_count": 28,
   "id": "e7320336",
   "metadata": {},
   "outputs": [
    {
     "data": {
      "text/html": [
       "<div>\n",
       "<style scoped>\n",
       "    .dataframe tbody tr th:only-of-type {\n",
       "        vertical-align: middle;\n",
       "    }\n",
       "\n",
       "    .dataframe tbody tr th {\n",
       "        vertical-align: top;\n",
       "    }\n",
       "\n",
       "    .dataframe thead th {\n",
       "        text-align: right;\n",
       "    }\n",
       "</style>\n",
       "<table border=\"1\" class=\"dataframe\">\n",
       "  <thead>\n",
       "    <tr style=\"text-align: right;\">\n",
       "      <th></th>\n",
       "      <th>CLIENT ID</th>\n",
       "      <th>AVG CONSO</th>\n",
       "      <th>AVG BASKET SIZE</th>\n",
       "      <th>RECEIVED_COMMUNICATION</th>\n",
       "      <th>CLIENT_SEGMENT</th>\n",
       "    </tr>\n",
       "  </thead>\n",
       "  <tbody>\n",
       "    <tr>\n",
       "      <th>0</th>\n",
       "      <td>48352078</td>\n",
       "      <td>8.33</td>\n",
       "      <td>100.00</td>\n",
       "      <td>0</td>\n",
       "      <td>4</td>\n",
       "    </tr>\n",
       "    <tr>\n",
       "      <th>1</th>\n",
       "      <td>18072186</td>\n",
       "      <td>93.42</td>\n",
       "      <td>186.83</td>\n",
       "      <td>1</td>\n",
       "      <td>1</td>\n",
       "    </tr>\n",
       "    <tr>\n",
       "      <th>2</th>\n",
       "      <td>48352246</td>\n",
       "      <td>45.83</td>\n",
       "      <td>137.50</td>\n",
       "      <td>0</td>\n",
       "      <td>3</td>\n",
       "    </tr>\n",
       "    <tr>\n",
       "      <th>3</th>\n",
       "      <td>18070621</td>\n",
       "      <td>16.67</td>\n",
       "      <td>200.00</td>\n",
       "      <td>1</td>\n",
       "      <td>4</td>\n",
       "    </tr>\n",
       "    <tr>\n",
       "      <th>4</th>\n",
       "      <td>48352262</td>\n",
       "      <td>13.33</td>\n",
       "      <td>160.00</td>\n",
       "      <td>0</td>\n",
       "      <td>4</td>\n",
       "    </tr>\n",
       "    <tr>\n",
       "      <th>5</th>\n",
       "      <td>48359553</td>\n",
       "      <td>16.67</td>\n",
       "      <td>200.00</td>\n",
       "      <td>0</td>\n",
       "      <td>4</td>\n",
       "    </tr>\n",
       "    <tr>\n",
       "      <th>6</th>\n",
       "      <td>18071647</td>\n",
       "      <td>8.33</td>\n",
       "      <td>100.00</td>\n",
       "      <td>1</td>\n",
       "      <td>4</td>\n",
       "    </tr>\n",
       "    <tr>\n",
       "      <th>7</th>\n",
       "      <td>48359574</td>\n",
       "      <td>54.17</td>\n",
       "      <td>162.50</td>\n",
       "      <td>0</td>\n",
       "      <td>3</td>\n",
       "    </tr>\n",
       "    <tr>\n",
       "      <th>8</th>\n",
       "      <td>48359627</td>\n",
       "      <td>26.67</td>\n",
       "      <td>106.67</td>\n",
       "      <td>0</td>\n",
       "      <td>4</td>\n",
       "    </tr>\n",
       "    <tr>\n",
       "      <th>9</th>\n",
       "      <td>18070505</td>\n",
       "      <td>166.67</td>\n",
       "      <td>333.33</td>\n",
       "      <td>1</td>\n",
       "      <td>1</td>\n",
       "    </tr>\n",
       "    <tr>\n",
       "      <th>10</th>\n",
       "      <td>18071016</td>\n",
       "      <td>145.00</td>\n",
       "      <td>290.00</td>\n",
       "      <td>1</td>\n",
       "      <td>1</td>\n",
       "    </tr>\n",
       "    <tr>\n",
       "      <th>11</th>\n",
       "      <td>18071198</td>\n",
       "      <td>230.83</td>\n",
       "      <td>230.83</td>\n",
       "      <td>1</td>\n",
       "      <td>6</td>\n",
       "    </tr>\n",
       "    <tr>\n",
       "      <th>12</th>\n",
       "      <td>18071233</td>\n",
       "      <td>85.92</td>\n",
       "      <td>343.67</td>\n",
       "      <td>1</td>\n",
       "      <td>2</td>\n",
       "    </tr>\n",
       "    <tr>\n",
       "      <th>13</th>\n",
       "      <td>18071524</td>\n",
       "      <td>7.50</td>\n",
       "      <td>45.00</td>\n",
       "      <td>1</td>\n",
       "      <td>5</td>\n",
       "    </tr>\n",
       "    <tr>\n",
       "      <th>14</th>\n",
       "      <td>18071668</td>\n",
       "      <td>154.83</td>\n",
       "      <td>109.29</td>\n",
       "      <td>1</td>\n",
       "      <td>1</td>\n",
       "    </tr>\n",
       "    <tr>\n",
       "      <th>15</th>\n",
       "      <td>18072476</td>\n",
       "      <td>33.33</td>\n",
       "      <td>400.00</td>\n",
       "      <td>1</td>\n",
       "      <td>3</td>\n",
       "    </tr>\n",
       "    <tr>\n",
       "      <th>16</th>\n",
       "      <td>48352272</td>\n",
       "      <td>25.00</td>\n",
       "      <td>150.00</td>\n",
       "      <td>0</td>\n",
       "      <td>3</td>\n",
       "    </tr>\n",
       "    <tr>\n",
       "      <th>17</th>\n",
       "      <td>18072741</td>\n",
       "      <td>158.42</td>\n",
       "      <td>211.22</td>\n",
       "      <td>1</td>\n",
       "      <td>1</td>\n",
       "    </tr>\n",
       "    <tr>\n",
       "      <th>18</th>\n",
       "      <td>18072797</td>\n",
       "      <td>110.83</td>\n",
       "      <td>133.00</td>\n",
       "      <td>1</td>\n",
       "      <td>1</td>\n",
       "    </tr>\n",
       "  </tbody>\n",
       "</table>\n",
       "</div>"
      ],
      "text/plain": [
       "    CLIENT ID  AVG CONSO  AVG BASKET SIZE  RECEIVED_COMMUNICATION  \\\n",
       "0    48352078       8.33           100.00                       0   \n",
       "1    18072186      93.42           186.83                       1   \n",
       "2    48352246      45.83           137.50                       0   \n",
       "3    18070621      16.67           200.00                       1   \n",
       "4    48352262      13.33           160.00                       0   \n",
       "5    48359553      16.67           200.00                       0   \n",
       "6    18071647       8.33           100.00                       1   \n",
       "7    48359574      54.17           162.50                       0   \n",
       "8    48359627      26.67           106.67                       0   \n",
       "9    18070505     166.67           333.33                       1   \n",
       "10   18071016     145.00           290.00                       1   \n",
       "11   18071198     230.83           230.83                       1   \n",
       "12   18071233      85.92           343.67                       1   \n",
       "13   18071524       7.50            45.00                       1   \n",
       "14   18071668     154.83           109.29                       1   \n",
       "15   18072476      33.33           400.00                       1   \n",
       "16   48352272      25.00           150.00                       0   \n",
       "17   18072741     158.42           211.22                       1   \n",
       "18   18072797     110.83           133.00                       1   \n",
       "\n",
       "    CLIENT_SEGMENT  \n",
       "0                4  \n",
       "1                1  \n",
       "2                3  \n",
       "3                4  \n",
       "4                4  \n",
       "5                4  \n",
       "6                4  \n",
       "7                3  \n",
       "8                4  \n",
       "9                1  \n",
       "10               1  \n",
       "11               6  \n",
       "12               2  \n",
       "13               5  \n",
       "14               1  \n",
       "15               3  \n",
       "16               3  \n",
       "17               1  \n",
       "18               1  "
      ]
     },
     "execution_count": 28,
     "metadata": {},
     "output_type": "execute_result"
    }
   ],
   "source": [
    "# A continuación se pueden ver los resultados. \n",
    "df4.head(n= 25)"
   ]
  },
  {
   "cell_type": "code",
   "execution_count": 29,
   "id": "3857a0c7",
   "metadata": {},
   "outputs": [],
   "source": [
    "# Se convierten las columnas deseadas en un archivo csv.\n",
    "\n",
    "selected_columns = df4[[\"CLIENT ID\",\"CLIENT_SEGMENT\"]]\n",
    "df5 = selected_columns.copy()\n",
    "df5.head()\n",
    "df5.to_csv('results.csv')"
   ]
  },
  {
   "cell_type": "code",
   "execution_count": null,
   "id": "eb9aba6c",
   "metadata": {},
   "outputs": [],
   "source": []
  }
 ],
 "metadata": {
  "kernelspec": {
   "display_name": "Python 3",
   "language": "python",
   "name": "python3"
  },
  "language_info": {
   "codemirror_mode": {
    "name": "ipython",
    "version": 3
   },
   "file_extension": ".py",
   "mimetype": "text/x-python",
   "name": "python",
   "nbconvert_exporter": "python",
   "pygments_lexer": "ipython3",
   "version": "3.8.5"
  }
 },
 "nbformat": 4,
 "nbformat_minor": 5
}
